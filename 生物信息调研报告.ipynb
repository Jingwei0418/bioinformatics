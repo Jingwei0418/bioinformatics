{
 "cells": [
  {
   "cell_type": "code",
   "execution_count": 1,
   "metadata": {},
   "outputs": [
    {
     "name": "stdout",
     "output_type": "stream",
     "text": [
      "[1. 1. 1. 1. 1. 1. 1. 1. 1. 1. 1. 1. 1. 1. 1. 1. 1. 1. 1. 1.]\n",
      "result: 1.0\n",
      "[0. 0. 0. 0. 0. 0. 0. 1. 0. 0. 0. 0. 0. 0. 0. 0. 0. 0. 0. 0.]\n",
      "result: 0.85\n",
      "[1. 0. 1. 1. 1. 1. 1. 1. 1. 0. 1. 1. 1. 1. 1. 1. 1. 1. 1. 1.]\n",
      "result: 0.75\n",
      "[1. 0. 1. 1. 1. 1. 1. 1. 1. 0. 1. 1. 1. 1. 1. 1. 1. 1. 1. 1.]\n",
      "result: 0.5\n",
      "[0. 0. 0. 0. 0. 0. 0. 0. 0. 0. 0. 0. 1. 0. 1. 0. 0. 0. 0. 1.]\n",
      "result: 0.7\n",
      "[0. 0. 0. 0. 0. 0. 0. 0. 0. 0. 0. 0. 0. 0. 1. 0. 0. 0. 0. 0.]\n",
      "result: 0.7\n"
     ]
    }
   ],
   "source": [
    "import numpy as np\n",
    "from sklearn import neighbors\n",
    "import math\n",
    "\n",
    "import xlrd\n",
    "\n",
    "def load(filename,class_column,skiprow):\n",
    "    data = xlrd.open_workbook(filename)  \n",
    "    table = data.sheets()[0]  \n",
    "    nrows = table.nrows  \n",
    "    temp_attr = []\n",
    "    temp_class = []\n",
    "    for i in range(nrows):  \n",
    "        if i in skiprow:  \n",
    "            continue\n",
    "        temp_attr.append(table.row_values(i)[0:32])\n",
    "        temp_class.append(table.row_values(i)[31+class_column])\n",
    "\n",
    "    data_attr = np.array(temp_attr)\n",
    "    data_class = np.array(temp_class)\n",
    "    data = np.column_stack((data_attr,data_class))\n",
    "    return data\n",
    "\n",
    "def myplan(train_data,test_data):\n",
    "\n",
    "    # 训练集\n",
    "    train_attrs = train_data[:,:32]\n",
    "    train_class = train_data[:,32]\n",
    "\n",
    "    knn = neighbors.KNeighborsClassifier()\n",
    "    knn.fit(train_attrs, train_class)\n",
    "\n",
    "    # 测试集\n",
    "    test_attrs = test_data[:,:32]\n",
    "    test_class = test_data[:,32]\n",
    "    \n",
    "    result = knn.predict(test_attrs)\n",
    "    print(result)\n",
    "    \n",
    "    # 计算正确率\n",
    "    count = 0\n",
    "    for i in range(result.shape[0]):\n",
    "        if test_class[i]==result[i]:\n",
    "            count+=1\n",
    "\n",
    "    print('result:',count/result.size)\n",
    "\n",
    "if __name__ == '__main__':\n",
    "    train_file = 'train.xls'\n",
    "    test_file = 'test.xls'\n",
    "    for i in range(1,7):\n",
    "        class_column = i\n",
    "        skip_column = (0,)\n",
    "        train_set = load(train_file,class_column,skip_column)\n",
    "        test_set = load(test_file,class_column,skip_column)\n",
    "        myplan(train_set,test_set)"
   ]
  },
  {
   "cell_type": "code",
   "execution_count": null,
   "metadata": {},
   "outputs": [],
   "source": []
  }
 ],
 "metadata": {
  "kernelspec": {
   "display_name": "Python 3",
   "language": "python",
   "name": "python3"
  },
  "language_info": {
   "codemirror_mode": {
    "name": "ipython",
    "version": 3
   },
   "file_extension": ".py",
   "mimetype": "text/x-python",
   "name": "python",
   "nbconvert_exporter": "python",
   "pygments_lexer": "ipython3",
   "version": "3.7.1"
  }
 },
 "nbformat": 4,
 "nbformat_minor": 2
}
