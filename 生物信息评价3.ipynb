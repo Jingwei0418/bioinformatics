{
 "cells": [
  {
   "cell_type": "code",
   "execution_count": 1,
   "metadata": {},
   "outputs": [],
   "source": [
    "import pandas as pd\n",
    "import numpy as np"
   ]
  },
  {
   "cell_type": "code",
   "execution_count": 2,
   "metadata": {},
   "outputs": [],
   "source": [
    "data = pd.read_csv('33.txt')"
   ]
  },
  {
   "cell_type": "code",
   "execution_count": 3,
   "metadata": {},
   "outputs": [],
   "source": [
    "data.loc[data['0']==0,'0']=3"
   ]
  },
  {
   "cell_type": "code",
   "execution_count": 4,
   "metadata": {},
   "outputs": [],
   "source": [
    "data.loc[data['0']==1,'0']=0"
   ]
  },
  {
   "cell_type": "code",
   "execution_count": 5,
   "metadata": {},
   "outputs": [],
   "source": [
    "data.loc[data['0']==2,'0']=1"
   ]
  },
  {
   "cell_type": "code",
   "execution_count": 6,
   "metadata": {},
   "outputs": [],
   "source": [
    "data.loc[data['0']==0,'0']=2"
   ]
  },
  {
   "cell_type": "code",
   "execution_count": 8,
   "metadata": {},
   "outputs": [],
   "source": [
    "t5_l = pd.read_table('Test_5_Kolod_label.txt',header=None)"
   ]
  },
  {
   "cell_type": "code",
   "execution_count": 9,
   "metadata": {},
   "outputs": [],
   "source": [
    "import math\n",
    "import numpy as np\n",
    "from sklearn import metrics\n",
    "def NMI(A,B):\n",
    "    #样本点数\n",
    "    total = len(A)\n",
    "    A_ids = set(A)\n",
    "    B_ids = set(B)\n",
    "    #互信息计算\n",
    "    MI = 0\n",
    "    eps = 1.4e-45\n",
    "    for idA in A_ids:\n",
    "        for idB in B_ids:\n",
    "            idAOccur = np.where(A==idA)\n",
    "            idBOccur = np.where(B==idB)\n",
    "            idABOccur = np.intersect1d(idAOccur,idBOccur)\n",
    "            px = 1.0*len(idAOccur[0])/total\n",
    "            py = 1.0*len(idBOccur[0])/total\n",
    "            pxy = 1.0*len(idABOccur)/total\n",
    "            MI = MI + pxy*math.log(pxy/(px*py)+eps,2)\n",
    "    # 标准化互信息\n",
    "    Hx = 0\n",
    "    for idA in A_ids:\n",
    "        idAOccurCount = 1.0*len(np.where(A==idA)[0])\n",
    "        Hx = Hx - (idAOccurCount/total)*math.log(idAOccurCount/total+eps,2)\n",
    "    Hy = 0\n",
    "    for idB in B_ids:\n",
    "        idBOccurCount = 1.0*len(np.where(B==idB)[0])\n",
    "        Hy = Hy - (idBOccurCount/total)*math.log(idBOccurCount/total+eps,2)\n",
    "    MIhat = 2.0*MI/(Hx+Hy)\n",
    "    return MIhat"
   ]
  },
  {
   "cell_type": "code",
   "execution_count": 10,
   "metadata": {},
   "outputs": [
    {
     "name": "stdout",
     "output_type": "stream",
     "text": [
      "0.7289142332787037\n"
     ]
    }
   ],
   "source": [
    "A = np.array(data['0'])\n",
    "B = np.array(t5_l[0])\n",
    "print(NMI(A,B))"
   ]
  },
  {
   "cell_type": "code",
   "execution_count": null,
   "metadata": {},
   "outputs": [],
   "source": []
  }
 ],
 "metadata": {
  "kernelspec": {
   "display_name": "Python 3",
   "language": "python",
   "name": "python3"
  },
  "language_info": {
   "codemirror_mode": {
    "name": "ipython",
    "version": 3
   },
   "file_extension": ".py",
   "mimetype": "text/x-python",
   "name": "python",
   "nbconvert_exporter": "python",
   "pygments_lexer": "ipython3",
   "version": "3.7.1"
  }
 },
 "nbformat": 4,
 "nbformat_minor": 2
}
