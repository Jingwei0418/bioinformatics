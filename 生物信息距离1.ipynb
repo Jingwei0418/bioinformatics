{
 "cells": [
  {
   "cell_type": "code",
   "execution_count": 64,
   "metadata": {},
   "outputs": [],
   "source": [
    "from numpy import *\n",
    "import pandas as pd\n",
    "import numpy as np"
   ]
  },
  {
   "cell_type": "code",
   "execution_count": 65,
   "metadata": {},
   "outputs": [],
   "source": [
    "t5 = pd.read_table('Test_5_Kolod.txt',header=None)\n",
    "t5 = (t5 - t5.min()) / (t5.max() - t5.min())"
   ]
  },
  {
   "cell_type": "code",
   "execution_count": 66,
   "metadata": {},
   "outputs": [],
   "source": [
    "#算距离\n",
    "def distance(vector1,vector2):\n",
    "    return np.sqrt(np.sum(np.square(vector1-vector2)))"
   ]
  },
  {
   "cell_type": "code",
   "execution_count": 67,
   "metadata": {},
   "outputs": [],
   "source": [
    "t5_l = pd.read_table('Test_5_Kolod_label.txt',header=None)"
   ]
  },
  {
   "cell_type": "code",
   "execution_count": 68,
   "metadata": {},
   "outputs": [],
   "source": [
    "T5=pd.concat([t5,t5_l], axis=1)"
   ]
  },
  {
   "cell_type": "code",
   "execution_count": 69,
   "metadata": {},
   "outputs": [],
   "source": [
    "#随机选出K个样本\n",
    "def randChosenCent(dataSet,k):\n",
    "    # 样本数\n",
    "    m=shape(dataSet)[0]\n",
    "    # 初始化列表\n",
    "    centroidsIndex=[]\n",
    "    #生成类似于样本索引的列表\n",
    "    dataIndex=list(range(m))\n",
    "    for i in range(k):\n",
    "        #生成随机数\n",
    "        randIndex=random.randint(0,len(dataIndex))\n",
    "        #将随机产生的样本的索引放入centroidsIndex\n",
    "        centroidsIndex.append(dataIndex[randIndex])\n",
    "        #删除已经被抽中的样本\n",
    "        del dataIndex[randIndex]\n",
    "    #根据索引获取样本\n",
    "    centroids = dataSet.iloc[centroidsIndex]\n",
    "    centroids1 = centroids.iloc[:,:-1]\n",
    "    label = centroids.iloc[:,-1]\n",
    "    return mat(centroids1),mat(label)"
   ]
  },
  {
   "cell_type": "code",
   "execution_count": 74,
   "metadata": {},
   "outputs": [],
   "source": [
    "def kMeans1(dataSet, k, da):\n",
    "    # 样本总数\n",
    "    m = shape(dataSet)[0]\n",
    "    #分配样本到最近的簇：存[簇序号,距离]\n",
    "    # m行  2 列\n",
    "    clusterAssment = mat(zeros((m,2)))\n",
    " \n",
    "    #step1:\n",
    "    #通过随机产生的样本点初始化聚类中心\n",
    "    centroids,label = randChosenCent(da, k)\n",
    "    print('最初的中心为',centroids)\n",
    "    print('分别属于',label)\n",
    " \n",
    "    #标志位，如果迭代前后样本分类发生变化值为True，否则为False\n",
    "    clusterChanged = True\n",
    "    #查看迭代次数\n",
    "    iterTime=0\n",
    "    #所有样本分配结果不再改变，迭代终止\n",
    "    while clusterChanged:   \n",
    "        clusterChanged = False        \n",
    "        #step2:分配到最近的聚类中心对应的簇中\n",
    "        for i in range(m):\n",
    "            #初始定义距离为无穷大\n",
    "            minDist = inf;\n",
    "            #初始化索引值\n",
    "            minIndex = -1\n",
    "            # 计算每个样本与k个中心点距离\n",
    "            for j in range(k):\n",
    "                #计算第i个样本到第j个中心点的距离\n",
    "                distJI = distance(array(centroids[j,:])[0],dataSet.values[i,:])\n",
    "                #判断距离是否为最小\n",
    "                if distJI < minDist:\n",
    "                    #更新获取到最小距离\n",
    "                    minDist = distJI\n",
    "                    #获取对应的簇序号\n",
    "                    minIndex = j\n",
    "            #样本上次分配结果跟本次不一样，标志位clusterChanged置True\n",
    "            if clusterAssment[i,0] != minIndex:\n",
    "                clusterChanged = True\n",
    "            clusterAssment[i,:] = minIndex,minDist #分配样本到最近的簇\n",
    "        iterTime+=1\n",
    "        #step3:更新聚类中心\n",
    "        for cent in range(k):#样本分配结束后，重新计算聚类中心\n",
    "            #获取该簇所有的样本点\n",
    "            ptsInClust = dataSet.iloc[nonzero(clusterAssment[:,0].A==cent)[0]]\n",
    "            #更新聚类中心：axis=0沿列方向求均值。\n",
    "            centroids[cent,:] = mean(ptsInClust, axis=0) \n",
    "        print('%d'%iterTime + 'th iteration')\n",
    "    return centroids, clusterAssment"
   ]
  },
  {
   "cell_type": "code",
   "execution_count": 77,
   "metadata": {},
   "outputs": [
    {
     "name": "stdout",
     "output_type": "stream",
     "text": [
      "最初的中心为 [[0.83196159 0.85486399 0.         ... 0.77001963 0.86251717 0.34540124]\n",
      " [0.92218001 0.75472747 0.         ... 0.56972522 0.72634083 0.52933724]\n",
      " [0.88042102 0.45661846 0.         ... 0.29541217 0.67629225 0.28166287]]\n",
      "分别属于 [[1 3 2]]\n",
      "1th iteration\n",
      "2th iteration\n",
      "3th iteration\n",
      "4th iteration\n",
      "5th iteration\n",
      "6th iteration\n",
      "7th iteration\n",
      "8th iteration\n",
      "9th iteration\n",
      "10th iteration\n",
      "11th iteration\n",
      "12th iteration\n",
      "13th iteration\n",
      "14th iteration\n",
      "15th iteration\n",
      "16th iteration\n",
      "17th iteration\n"
     ]
    }
   ],
   "source": [
    "if __name__=='__main__':\n",
    "    # #*****kmeans聚类\n",
    "    k=3 #用户定义聚类数\n",
    "    mycentroids1,clusterAssment1=kMeans1(t5,k,T5)"
   ]
  },
  {
   "cell_type": "code",
   "execution_count": 73,
   "metadata": {},
   "outputs": [],
   "source": [
    "pd.DataFrame(clusterAssment1).to_csv('11.txt')"
   ]
  }
 ],
 "metadata": {
  "kernelspec": {
   "display_name": "Python 3",
   "language": "python",
   "name": "python3"
  },
  "language_info": {
   "codemirror_mode": {
    "name": "ipython",
    "version": 3
   },
   "file_extension": ".py",
   "mimetype": "text/x-python",
   "name": "python",
   "nbconvert_exporter": "python",
   "pygments_lexer": "ipython3",
   "version": "3.7.1"
  }
 },
 "nbformat": 4,
 "nbformat_minor": 2
}
